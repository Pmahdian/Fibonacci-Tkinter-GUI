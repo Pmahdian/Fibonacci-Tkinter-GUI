{
 "cells": [
  {
   "cell_type": "markdown",
   "id": "1907a3cb",
   "metadata": {},
   "source": [
    "### 📌 Importing Required Libraries for GUI Development\n",
    "\n"
   ]
  },
  {
   "cell_type": "code",
   "execution_count": 1,
   "id": "b75306cb",
   "metadata": {},
   "outputs": [],
   "source": [
    "from tkinter import *\n",
    "from tkinter import ttk\n",
    "from PIL import ImageTk, Image"
   ]
  },
  {
   "cell_type": "markdown",
   "id": "7fadbd33",
   "metadata": {},
   "source": [
    "### 🖥️ Initializing the Main Window\n"
   ]
  },
  {
   "cell_type": "code",
   "execution_count": null,
   "id": "cf1f849c",
   "metadata": {},
   "outputs": [],
   "source": [
    "root = Tk()\n",
    "root.config(bg='#B3C8CF')\n",
    "root.title('Fibonacci')"
   ]
  },
  {
   "cell_type": "markdown",
   "id": "be4dc6e2",
   "metadata": {},
   "source": [
    "### 📌 Setting Window Size and Position in Tkinter"
   ]
  },
  {
   "cell_type": "code",
   "execution_count": null,
   "id": "3c175f99",
   "metadata": {},
   "outputs": [],
   "source": [
    "rootw = 720\n",
    "rooth = 340\n",
    "screenw = (root.winfo_screenwidth()//2) - (rootw//2)\n",
    "screenh = (root.winfo_screenheight()//2) - (rooth//2)\n",
    "root.geometry(\"{}x{}+{}+{}\".format(rootw,rooth,screenw,screenh))\n",
    "root.minsize(400,200)\n",
    "root.maxsize(1200,800)"
   ]
  },
  {
   "cell_type": "code",
   "execution_count": null,
   "id": "901f5522",
   "metadata": {},
   "outputs": [],
   "source": []
  }
 ],
 "metadata": {
  "kernelspec": {
   "display_name": "Python 3",
   "language": "python",
   "name": "python3"
  },
  "language_info": {
   "codemirror_mode": {
    "name": "ipython",
    "version": 3
   },
   "file_extension": ".py",
   "mimetype": "text/x-python",
   "name": "python",
   "nbconvert_exporter": "python",
   "pygments_lexer": "ipython3",
   "version": "3.11.5"
  }
 },
 "nbformat": 4,
 "nbformat_minor": 5
}
