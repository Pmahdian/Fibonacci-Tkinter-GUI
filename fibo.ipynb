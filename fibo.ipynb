{
 "cells": [
  {
   "cell_type": "markdown",
   "id": "1907a3cb",
   "metadata": {},
   "source": [
    "### 📌 Importing Required Libraries for GUI Development\n",
    "\n"
   ]
  },
  {
   "cell_type": "code",
   "execution_count": 1,
   "id": "b75306cb",
   "metadata": {},
   "outputs": [],
   "source": [
    "from tkinter import *\n",
    "from tkinter import ttk\n",
    "from PIL import ImageTk, Image"
   ]
  },
  {
   "cell_type": "markdown",
   "id": "7fadbd33",
   "metadata": {},
   "source": [
    "### 🖥️ Initializing the Main Window\n"
   ]
  },
  {
   "cell_type": "code",
   "execution_count": 2,
   "id": "cf1f849c",
   "metadata": {},
   "outputs": [
    {
     "data": {
      "text/plain": [
       "''"
      ]
     },
     "execution_count": 2,
     "metadata": {},
     "output_type": "execute_result"
    }
   ],
   "source": [
    "root = Tk()\n",
    "root.config(bg='#B3C8CF')\n",
    "root.title('Fibonacci')"
   ]
  },
  {
   "cell_type": "markdown",
   "id": "be4dc6e2",
   "metadata": {},
   "source": [
    "### 📌 Setting Window Size and Position in Tkinter"
   ]
  },
  {
   "cell_type": "code",
   "execution_count": 3,
   "id": "3c175f99",
   "metadata": {},
   "outputs": [],
   "source": [
    "rootw = 720\n",
    "rooth = 340\n",
    "screenw = (root.winfo_screenwidth()//2) - (rootw//2)\n",
    "screenh = (root.winfo_screenheight()//2) - (rooth//2)\n",
    "root.geometry(\"{}x{}+{}+{}\".format(rootw,rooth,screenw,screenh))\n",
    "root.minsize(400,200)\n",
    "root.maxsize(1200,800)"
   ]
  },
  {
   "cell_type": "markdown",
   "id": "2d3c33b9",
   "metadata": {},
   "source": [
    "### 🔳 Frame Layout and Styling in Tkinter\n",
    "\n",
    "This section creates two frames, placing one on the left and the other on the right.  \n",
    "For the right frame, a border and background color have been set to enhance the UI appearance.\n"
   ]
  },
  {
   "cell_type": "code",
   "execution_count": 4,
   "id": "901f5522",
   "metadata": {},
   "outputs": [],
   "source": [
    "\n",
    "f1=Frame(root)\n",
    "f2=Frame(root)\n",
    "f1.pack(side='left')\n",
    "f2.pack(side='right',padx=10)\n",
    "f2.config(bd=2,bg='#B3C8CF')"
   ]
  },
  {
   "cell_type": "markdown",
   "id": "8ed3718f",
   "metadata": {},
   "source": [
    "### 🖼️ Loading and Resizing an Image with PIL  "
   ]
  },
  {
   "cell_type": "code",
   "execution_count": 5,
   "id": "ef027a3c",
   "metadata": {},
   "outputs": [],
   "source": [
    "from PIL import ImageTk, Image\n",
    "\n",
    "img = Image.open('R.eb38060a0e660040d3b7b421fe1de5c4.jpeg')\n",
    "img = img.resize((250, 290))\n",
    "img = ImageTk.PhotoImage(img)"
   ]
  },
  {
   "cell_type": "markdown",
   "id": "a95ecceb",
   "metadata": {},
   "source": [
    "### 🏷️ Displaying the Image in a Label "
   ]
  },
  {
   "cell_type": "code",
   "execution_count": 6,
   "id": "6207b614",
   "metadata": {},
   "outputs": [],
   "source": [
    "panel = Label(f2, image=img,bd=10)\n",
    "\n",
    "panel.pack(padx=20,pady=10)"
   ]
  },
  {
   "cell_type": "markdown",
   "id": "cfc6c54d",
   "metadata": {},
   "source": [
    "### 📖 Creating a Notebook with Tkinter  "
   ]
  },
  {
   "cell_type": "code",
   "execution_count": 7,
   "id": "73bf32e8",
   "metadata": {},
   "outputs": [],
   "source": [
    "from tkinter import ttk \n",
    "from tkinter import *\n",
    "nb = ttk.Notebook(root)\n",
    "f_note1= Frame(nb,bd=0,bg='#F1EEDC')\n",
    "f_note2=Frame(nb,bd= 0,bg='#F1EEDC')\n",
    "f_note1.pack(fill= BOTH,expand=True)\n",
    "f_note2.pack(fill = BOTH,expand=True)\n",
    "nb.add(f_note1, text='about fibonacci')\n",
    "nb.add(f_note2,text='fibonacci sequence')\n",
    "nb.place(x=26,y=10)"
   ]
  },
  {
   "cell_type": "markdown",
   "id": "e1e86fb8",
   "metadata": {},
   "source": [
    "### 🔢 Fibonacci Sequence Label\n"
   ]
  },
  {
   "cell_type": "code",
   "execution_count": 13,
   "id": "339e7479",
   "metadata": {},
   "outputs": [],
   "source": [
    "lab_note1 = Label(f_note1, text='The Fibonacci Sequence is infinitely \\n large, but it begins like this:\\n 1, 1, 2, 3, 5, 8, 13, 21, 34, 55, 89, etc. \\n Each number is the sum of the \\n two numbers that come before it. Also, \\n when one number is divided \\n by the one that comes right before it,\\n the result gets closer \\n and closer to the golden ratio.',fg='#000000')\n",
    "lab_note1.pack(pady=50,padx=30)\n",
    "lab_note1.config(bg='#F1EEDC')"
   ]
  },
  {
   "cell_type": "markdown",
   "id": "b61f913b",
   "metadata": {},
   "source": [
    "### 📊 Fibonacci Sequence Calculator\n",
    "\n",
    "This Python script uses **tkinter** to create a graphical user interface that calculates the Fibonacci sequence based on user input."
   ]
  },
  {
   "cell_type": "code",
   "execution_count": 14,
   "id": "bbb889e6",
   "metadata": {},
   "outputs": [],
   "source": [
    "import tkinter as tk\n",
    "from tkinter import ttk\n",
    "\n",
    "def fib(number):\n",
    "    if number <= 0:\n",
    "        inv_lab.config(text=\"Invalid input: Number must be positive\")\n",
    "        return\n",
    "\n",
    "    answer = []\n",
    "    a, b = 0, 1\n",
    "    for i in range(1, number + 1):\n",
    "        answer.append(a)\n",
    "        a, b = b, a + b\n",
    "   \n",
    "            \n",
    "    # final_ans = tk.Label(f_note2, text=answer)\n",
    "    # final_ans.pack()\n",
    "    inv_lab.config(text=answer)\n",
    "\n",
    "def clearing():\n",
    "    inv_lab.config(text=\"\")\n",
    "\n",
    "sp_lab= Label(f_note2,text='')\n",
    "sp_lab.pack(pady=16)\n",
    "sp_lab.config(bg='#F1EEDC')\n",
    "\n",
    "enter_lab = Label(f_note2,text='Pleas Enter s Number:')\n",
    "enter_lab.pack()\n",
    "enter_lab.config(bg='#F1EEDC')\n",
    "# Create the input entry\n",
    "x = Entry(f_note2,bg='old lace')\n",
    "x.pack(pady=5,padx=5)\n",
    "\n",
    "# Create the button to trigger Fibonacci calculation\n",
    "btn = tk.Button(f_note2, bg= 'blue', text=\"Calculate\", command=lambda: fib(int(x.get())))\n",
    "btn.pack(padx=5,pady=5)\n",
    "btn.config(fg='#51829B')\n",
    "\n",
    "# Create the button to clear the error message\n",
    "back_btn = tk.Button(f_note2, text=\"Clear\", command=clearing)\n",
    "back_btn.pack()\n",
    "back_btn.config(fg='#51829B')\n",
    "inv_lab = tk.Label(f_note2, text=\"\")\n",
    "inv_lab.pack()\n",
    "inv_lab.config(bg='#F1EEDC')"
   ]
  },
  {
   "cell_type": "markdown",
   "id": "c2ca5edb",
   "metadata": {},
   "source": [
    "## final step\n"
   ]
  },
  {
   "cell_type": "code",
   "execution_count": 15,
   "id": "9fd9c7ee",
   "metadata": {},
   "outputs": [],
   "source": [
    "root.mainloop()"
   ]
  }
 ],
 "metadata": {
  "kernelspec": {
   "display_name": "Python 3",
   "language": "python",
   "name": "python3"
  },
  "language_info": {
   "codemirror_mode": {
    "name": "ipython",
    "version": 3
   },
   "file_extension": ".py",
   "mimetype": "text/x-python",
   "name": "python",
   "nbconvert_exporter": "python",
   "pygments_lexer": "ipython3",
   "version": "3.11.5"
  }
 },
 "nbformat": 4,
 "nbformat_minor": 5
}
